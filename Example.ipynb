{
 "cells": [
  {
   "cell_type": "code",
   "execution_count": null,
   "id": "0",
   "metadata": {
    "tags": []
   },
   "outputs": [],
   "source": [
    "# Necessary packages.\n",
    "import numpy as np\n",
    "from numpy.linalg import *\n",
    "import pandas as pd\n",
    "import warnings\n",
    "warnings.simplefilter('ignore', category=FutureWarning)\n",
    "warnings.simplefilter('always', UserWarning) \n",
    "np.set_printoptions(suppress=True)\n",
    "pd.set_option(\"display.float_format\", \"{:.0f}\".format)\n",
    "\n",
    "# Packages only for plotting.\n",
    "import matplotlib as plt\n",
    "\n",
    "# Importing the functions from the .py-files with the same name respectively.\n",
    "from mind4 import mind4\n",
    "from minm4 import minm4\n",
    "\n",
    "from mind4_quarterly import mind4_q\n",
    "from minm4_quarterly import minm4_q"
   ]
  },
  {
   "cell_type": "markdown",
   "id": "1",
   "metadata": {},
   "source": [
    "## Input Data"
   ]
  },
  {
   "cell_type": "code",
   "execution_count": null,
   "id": "2",
   "metadata": {
    "tags": []
   },
   "outputs": [],
   "source": [
    "m_df = pd.read_csv('monthly_data.csv', index_col=0)\n",
    "y_df = pd.read_csv('yearly_data.csv', index_col=0)\n",
    "\n",
    "m_df.index = pd.PeriodIndex(m_df.index, freq='M')\n",
    "y_df.index = pd.PeriodIndex(y_df.index, freq='A')"
   ]
  },
  {
   "cell_type": "code",
   "execution_count": null,
   "id": "3",
   "metadata": {
    "tags": []
   },
   "outputs": [],
   "source": [
    "q_df = m_df.resample('Q').sum()\n",
    "\n",
    "q_df"
   ]
  },
  {
   "cell_type": "code",
   "execution_count": null,
   "id": "4",
   "metadata": {
    "tags": []
   },
   "outputs": [],
   "source": [
    "m_df"
   ]
  },
  {
   "cell_type": "markdown",
   "id": "5",
   "metadata": {},
   "source": [
    "## Value to be Benchmarked"
   ]
  },
  {
   "cell_type": "code",
   "execution_count": null,
   "id": "6",
   "metadata": {
    "tags": []
   },
   "outputs": [],
   "source": [
    "(m_df.resample('Y').sum()-y_df)"
   ]
  },
  {
   "cell_type": "markdown",
   "id": "7",
   "metadata": {},
   "source": [
    "### Defining Parameters"
   ]
  },
  {
   "cell_type": "code",
   "execution_count": null,
   "id": "8",
   "metadata": {
    "tags": []
   },
   "outputs": [],
   "source": [
    "list_to_benchmarking = y_df.columns.to_list()\n",
    "\n",
    "baseyear = 2022\n",
    "firstyear = 2016\n",
    "\n",
    "# list_to_benchmarking1 = list_to_benchmarking\n",
    "# list_to_benchmarking1.remove('serieA')\n",
    "# list_to_benchmarking1"
   ]
  },
  {
   "cell_type": "markdown",
   "id": "9",
   "metadata": {},
   "source": [
    "# Benchmarking"
   ]
  },
  {
   "cell_type": "markdown",
   "id": "10",
   "metadata": {},
   "source": [
    "### Monthly frequency"
   ]
  },
  {
   "cell_type": "code",
   "execution_count": null,
   "id": "11",
   "metadata": {
    "tags": []
   },
   "outputs": [],
   "source": [
    "result_d4 = mind4(m_df, y_df, list_to_benchmarking, baseyear, firstyear)\n",
    "\n",
    "#result"
   ]
  },
  {
   "cell_type": "code",
   "execution_count": null,
   "id": "12",
   "metadata": {
    "tags": []
   },
   "outputs": [],
   "source": [
    "result_m4 = minm4(m_df, y_df, list_to_benchmarking, baseyear, firstyear)\n",
    "\n",
    "#result_m4"
   ]
  },
  {
   "cell_type": "markdown",
   "id": "13",
   "metadata": {},
   "source": [
    "### Quarterly frequency"
   ]
  },
  {
   "cell_type": "code",
   "execution_count": null,
   "id": "14",
   "metadata": {
    "tags": []
   },
   "outputs": [],
   "source": [
    "result_q_m4 = minm4_q(q_df, y_df, list_to_benchmarking, baseyear, firstyear)\n",
    "\n",
    "#result_m4"
   ]
  },
  {
   "cell_type": "code",
   "execution_count": null,
   "id": "15",
   "metadata": {
    "tags": []
   },
   "outputs": [],
   "source": [
    "result_q_d4 = mind4_q(q_df, y_df, list_to_benchmarking, baseyear, firstyear)\n",
    "\n",
    "#result_q_d4"
   ]
  },
  {
   "cell_type": "markdown",
   "id": "16",
   "metadata": {
    "tags": []
   },
   "source": [
    "## Effect of Benchmarking"
   ]
  },
  {
   "cell_type": "markdown",
   "id": "17",
   "metadata": {},
   "source": [
    "### Monthly frequency"
   ]
  },
  {
   "cell_type": "code",
   "execution_count": null,
   "id": "18",
   "metadata": {
    "tags": []
   },
   "outputs": [],
   "source": [
    "(result_d4/m_df[list_to_benchmarking]).plot()"
   ]
  },
  {
   "cell_type": "code",
   "execution_count": null,
   "id": "19",
   "metadata": {
    "tags": []
   },
   "outputs": [],
   "source": [
    "(result_m4/m_df).plot()"
   ]
  },
  {
   "cell_type": "markdown",
   "id": "20",
   "metadata": {},
   "source": [
    "### Quarterly frequency"
   ]
  },
  {
   "cell_type": "code",
   "execution_count": null,
   "id": "21",
   "metadata": {
    "tags": []
   },
   "outputs": [],
   "source": [
    "(result_q_d4/q_df).plot()"
   ]
  },
  {
   "cell_type": "code",
   "execution_count": null,
   "id": "22",
   "metadata": {
    "tags": []
   },
   "outputs": [],
   "source": [
    "(result_q_m4/q_df).plot()"
   ]
  },
  {
   "cell_type": "markdown",
   "id": "23",
   "metadata": {},
   "source": [
    "# Deviations on the Total Post Benchmarking."
   ]
  },
  {
   "cell_type": "code",
   "execution_count": null,
   "id": "24",
   "metadata": {
    "tags": []
   },
   "outputs": [],
   "source": [
    "# With MinD4.\n",
    "(result_d4.resample('Y').sum()-y_df)"
   ]
  },
  {
   "cell_type": "code",
   "execution_count": null,
   "id": "25",
   "metadata": {
    "tags": []
   },
   "outputs": [],
   "source": [
    "# With MinD4.\n",
    "(result_m4.resample('Y').sum()-y_df)"
   ]
  },
  {
   "cell_type": "code",
   "execution_count": null,
   "id": "26",
   "metadata": {
    "tags": []
   },
   "outputs": [],
   "source": [
    "# With MinD4.\n",
    "(result_q_d4.resample('Y').sum()-y_df)"
   ]
  },
  {
   "cell_type": "code",
   "execution_count": null,
   "id": "27",
   "metadata": {
    "tags": []
   },
   "outputs": [],
   "source": [
    "# With MinD4.\n",
    "(result_q_m4.resample('Y').sum()-y_df)"
   ]
  },
  {
   "cell_type": "code",
   "execution_count": null,
   "id": "28",
   "metadata": {},
   "outputs": [],
   "source": []
  },
  {
   "cell_type": "code",
   "execution_count": null,
   "id": "29",
   "metadata": {},
   "outputs": [],
   "source": []
  }
 ],
 "metadata": {
  "jupytext": {
   "cell_metadata_filter": "tags,-papermill",
   "notebook_metadata_filter": "jupytext.text_representation,-jupytext.text_representation.jupytext_version,-widgets,-varInspector"
  },
  "language_info": {
   "codemirror_mode": {
    "name": "ipython"
   },
   "file_extension": ".py",
   "mimetype": "text/x-python",
   "name": "python",
   "nbconvert_exporter": "python"
  }
 },
 "nbformat": 4,
 "nbformat_minor": 5
}
